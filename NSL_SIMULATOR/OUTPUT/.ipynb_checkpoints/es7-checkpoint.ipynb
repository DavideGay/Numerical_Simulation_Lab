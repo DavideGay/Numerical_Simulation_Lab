{
 "cells": [
  {
   "cell_type": "code",
   "execution_count": 1,
   "id": "54ef7002-22de-4c32-ac9b-00edb64d0217",
   "metadata": {},
   "outputs": [],
   "source": [
    "import matplotlib\n",
    "import matplotlib.pyplot as plt\n",
    "import numpy as np\n",
    "import math"
   ]
  },
  {
   "cell_type": "code",
   "execution_count": 20,
   "id": "16e845d6-acb8-403c-9bb8-081772c8d452",
   "metadata": {},
   "outputs": [],
   "source": [
    "filepath='potential_energy.dat'\n",
    "\n",
    "times=np.loadtxt(filepath, usecols = (0, ))\n",
    "pot_en=np.loadtxt(filepath, usecols = (1, ))\n",
    "assert times.size==pot_en.size\n",
    "size=times.size"
   ]
  },
  {
   "cell_type": "code",
   "execution_count": 28,
   "id": "ee388cb0-7b4b-4249-bc29-74a564addfb7",
   "metadata": {},
   "outputs": [],
   "source": [
    "chi=np.zeros(size)\n",
    "tmax=times[size-1]\n",
    "# somme provvisorie:\n",
    "#vtprime=0\n",
    "#vttprime=0\n",
    "#vt_vttprime=0\n",
    "\n",
    "for t in range(size):\n",
    "    vtprime=0\n",
    "    vttprime=0\n",
    "    vt_vttprime=0\n",
    "    vtprime_2=0\n",
    "    for tprime in range(int(tmax-t)):\n",
    "        vtprime+=pot_en[tprime]\n",
    "        vttprime+=pot_en[tprime+t]\n",
    "        vt_vttprime+=pot_en[tprime]*pot_en[tprime+t]\n",
    "        vtprime+=pot_en[tprime]*pot_en[tprime]\n",
    "    chi[t]=vtprime #ecc ecc"
   ]
  },
  {
   "cell_type": "code",
   "execution_count": null,
   "id": "b16ba206-c63d-49d6-9ef2-7eb3adfa4127",
   "metadata": {},
   "outputs": [],
   "source": []
  }
 ],
 "metadata": {
  "kernelspec": {
   "display_name": "Python 3 (ipykernel)",
   "language": "python",
   "name": "python3"
  },
  "language_info": {
   "codemirror_mode": {
    "name": "ipython",
    "version": 3
   },
   "file_extension": ".py",
   "mimetype": "text/x-python",
   "name": "python",
   "nbconvert_exporter": "python",
   "pygments_lexer": "ipython3",
   "version": "3.9.18"
  }
 },
 "nbformat": 4,
 "nbformat_minor": 5
}
